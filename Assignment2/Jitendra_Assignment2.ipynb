{
  "nbformat": 4,
  "nbformat_minor": 0,
  "metadata": {
    "colab": {
      "provenance": [],
      "authorship_tag": "ABX9TyPtZuO30HTYU78tO4xdv0lD",
      "include_colab_link": true
    },
    "kernelspec": {
      "name": "python3",
      "display_name": "Python 3"
    },
    "language_info": {
      "name": "python"
    }
  },
  "cells": [
    {
      "cell_type": "markdown",
      "metadata": {
        "id": "view-in-github",
        "colab_type": "text"
      },
      "source": [
        "<a href=\"https://colab.research.google.com/github/jitendra-manwani/GenAI-architect/blob/main/Jitendra_Assignment2.ipynb\" target=\"_parent\"><img src=\"https://colab.research.google.com/assets/colab-badge.svg\" alt=\"Open In Colab\"/></a>"
      ]
    },
    {
      "cell_type": "code",
      "execution_count": 1,
      "metadata": {
        "colab": {
          "base_uri": "https://localhost:8080/"
        },
        "id": "DpWU4bLMuA0f",
        "outputId": "db7c31b0-2af7-4c62-851b-eebafa7f8523"
      },
      "outputs": [
        {
          "output_type": "stream",
          "name": "stdout",
          "text": [
            "\u001b[?25l     \u001b[90m━━━━━━━━━━━━━━━━━━━━━━━━━━━━━━━━━━━━━━━━\u001b[0m \u001b[32m0.0/67.3 kB\u001b[0m \u001b[31m?\u001b[0m eta \u001b[36m-:--:--\u001b[0m\r\u001b[2K     \u001b[90m━━━━━━━━━━━━━━━━━━━━━━━━━━━━━━━━━━━━━━━━\u001b[0m \u001b[32m67.3/67.3 kB\u001b[0m \u001b[31m3.0 MB/s\u001b[0m eta \u001b[36m0:00:00\u001b[0m\n",
            "\u001b[?25h  Installing build dependencies ... \u001b[?25l\u001b[?25hdone\n",
            "  Getting requirements to build wheel ... \u001b[?25l\u001b[?25hdone\n",
            "  Preparing metadata (pyproject.toml) ... \u001b[?25l\u001b[?25hdone\n",
            "\u001b[2K   \u001b[90m━━━━━━━━━━━━━━━━━━━━━━━━━━━━━━━━━━━━━━━━\u001b[0m \u001b[32m19.3/19.3 MB\u001b[0m \u001b[31m97.8 MB/s\u001b[0m eta \u001b[36m0:00:00\u001b[0m\n",
            "\u001b[2K   \u001b[90m━━━━━━━━━━━━━━━━━━━━━━━━━━━━━━━━━━━━━━━━\u001b[0m \u001b[32m94.9/94.9 kB\u001b[0m \u001b[31m7.3 MB/s\u001b[0m eta \u001b[36m0:00:00\u001b[0m\n",
            "\u001b[2K   \u001b[90m━━━━━━━━━━━━━━━━━━━━━━━━━━━━━━━━━━━━━━━━\u001b[0m \u001b[32m284.2/284.2 kB\u001b[0m \u001b[31m20.4 MB/s\u001b[0m eta \u001b[36m0:00:00\u001b[0m\n",
            "\u001b[2K   \u001b[90m━━━━━━━━━━━━━━━━━━━━━━━━━━━━━━━━━━━━━━━━\u001b[0m \u001b[32m1.9/1.9 MB\u001b[0m \u001b[31m69.2 MB/s\u001b[0m eta \u001b[36m0:00:00\u001b[0m\n",
            "\u001b[2K   \u001b[90m━━━━━━━━━━━━━━━━━━━━━━━━━━━━━━━━━━━━━━━━\u001b[0m \u001b[32m101.6/101.6 kB\u001b[0m \u001b[31m7.7 MB/s\u001b[0m eta \u001b[36m0:00:00\u001b[0m\n",
            "\u001b[2K   \u001b[90m━━━━━━━━━━━━━━━━━━━━━━━━━━━━━━━━━━━━━━━━\u001b[0m \u001b[32m16.4/16.4 MB\u001b[0m \u001b[31m71.0 MB/s\u001b[0m eta \u001b[36m0:00:00\u001b[0m\n",
            "\u001b[2K   \u001b[90m━━━━━━━━━━━━━━━━━━━━━━━━━━━━━━━━━━━━━━━━\u001b[0m \u001b[32m65.8/65.8 kB\u001b[0m \u001b[31m5.6 MB/s\u001b[0m eta \u001b[36m0:00:00\u001b[0m\n",
            "\u001b[2K   \u001b[90m━━━━━━━━━━━━━━━━━━━━━━━━━━━━━━━━━━━━━━━━\u001b[0m \u001b[32m55.7/55.7 kB\u001b[0m \u001b[31m4.1 MB/s\u001b[0m eta \u001b[36m0:00:00\u001b[0m\n",
            "\u001b[2K   \u001b[90m━━━━━━━━━━━━━━━━━━━━━━━━━━━━━━━━━━━━━━━━\u001b[0m \u001b[32m196.2/196.2 kB\u001b[0m \u001b[31m14.5 MB/s\u001b[0m eta \u001b[36m0:00:00\u001b[0m\n",
            "\u001b[2K   \u001b[90m━━━━━━━━━━━━━━━━━━━━━━━━━━━━━━━━━━━━━━━━\u001b[0m \u001b[32m118.5/118.5 kB\u001b[0m \u001b[31m8.8 MB/s\u001b[0m eta \u001b[36m0:00:00\u001b[0m\n",
            "\u001b[2K   \u001b[90m━━━━━━━━━━━━━━━━━━━━━━━━━━━━━━━━━━━━━━━━\u001b[0m \u001b[32m102.5/102.5 kB\u001b[0m \u001b[31m7.6 MB/s\u001b[0m eta \u001b[36m0:00:00\u001b[0m\n",
            "\u001b[2K   \u001b[90m━━━━━━━━━━━━━━━━━━━━━━━━━━━━━━━━━━━━━━━━\u001b[0m \u001b[32m459.8/459.8 kB\u001b[0m \u001b[31m25.8 MB/s\u001b[0m eta \u001b[36m0:00:00\u001b[0m\n",
            "\u001b[2K   \u001b[90m━━━━━━━━━━━━━━━━━━━━━━━━━━━━━━━━━━━━━━━━\u001b[0m \u001b[32m71.5/71.5 kB\u001b[0m \u001b[31m4.8 MB/s\u001b[0m eta \u001b[36m0:00:00\u001b[0m\n",
            "\u001b[2K   \u001b[90m━━━━━━━━━━━━━━━━━━━━━━━━━━━━━━━━━━━━━━━━\u001b[0m \u001b[32m4.0/4.0 MB\u001b[0m \u001b[31m66.5 MB/s\u001b[0m eta \u001b[36m0:00:00\u001b[0m\n",
            "\u001b[2K   \u001b[90m━━━━━━━━━━━━━━━━━━━━━━━━━━━━━━━━━━━━━━━━\u001b[0m \u001b[32m454.8/454.8 kB\u001b[0m \u001b[31m26.4 MB/s\u001b[0m eta \u001b[36m0:00:00\u001b[0m\n",
            "\u001b[2K   \u001b[90m━━━━━━━━━━━━━━━━━━━━━━━━━━━━━━━━━━━━━━━━\u001b[0m \u001b[32m46.0/46.0 kB\u001b[0m \u001b[31m3.3 MB/s\u001b[0m eta \u001b[36m0:00:00\u001b[0m\n",
            "\u001b[2K   \u001b[90m━━━━━━━━━━━━━━━━━━━━━━━━━━━━━━━━━━━━━━━━\u001b[0m \u001b[32m86.8/86.8 kB\u001b[0m \u001b[31m6.6 MB/s\u001b[0m eta \u001b[36m0:00:00\u001b[0m\n",
            "\u001b[?25h  Building wheel for pypika (pyproject.toml) ... \u001b[?25l\u001b[?25hdone\n"
          ]
        }
      ],
      "source": [
        "# Course Recommendation Engine\n",
        "# Assignment 2: Personalized Course Recommendation Engine\n",
        "\n",
        "# Step 1: Install required packages\n",
        "!pip install openai pandas numpy scikit-learn chromadb --quiet"
      ]
    },
    {
      "cell_type": "code",
      "source": [
        "# Step 2: Import libraries\n",
        "import pandas as pd\n",
        "import numpy as np\n",
        "from typing import List, Tuple\n",
        "import openai\n",
        "from openai import AzureOpenAI\n",
        "import chromadb\n",
        "from sklearn.metrics.pairwise import cosine_similarity"
      ],
      "metadata": {
        "id": "dY1XcOQjuC1F"
      },
      "execution_count": 2,
      "outputs": []
    },
    {
      "cell_type": "code",
      "source": [
        "# Step 3: Setup Azure OpenAI\n",
        "# Replace with your actual Azure OpenAI details\n",
        "client = AzureOpenAI(\n",
        "    azure_endpoint=\"https://user4-mbqm2gg0-westeurope.cognitiveservices.azure.com/\",\n",
        "    api_key=\"BNDYOKM2ha3JgNR8OOBmdpTq9ePMI7vWQpAHL6XA1sx4HNXlrdYpJQQJ99BFAC5RqLJXJ3w3AAAAACOGNrWw\",\n",
        "    api_version=\"2024-02-01\"\n",
        ")"
      ],
      "metadata": {
        "id": "U-PgkT5PuQ4P"
      },
      "execution_count": 3,
      "outputs": []
    },
    {
      "cell_type": "code",
      "source": [
        "# Step 4: Load the dataset\n",
        "url = \"https://raw.githubusercontent.com/Bluedata-Consulting/GAAPB01-training-code-base/refs/heads/main/Assignments/assignment2dataset.csv\"\n",
        "df = pd.read_csv(url)\n",
        "print(f\"Dataset loaded: {df.shape[0]} courses\")\n",
        "print(df.head())"
      ],
      "metadata": {
        "colab": {
          "base_uri": "https://localhost:8080/"
        },
        "id": "Aohxs_bHuZtv",
        "outputId": "7d43bd40-da5b-48a0-d806-672cfc76a796"
      },
      "execution_count": 4,
      "outputs": [
        {
          "output_type": "stream",
          "name": "stdout",
          "text": [
            "Dataset loaded: 25 courses\n",
            "  course_id                                     title  \\\n",
            "0      C001           Foundations of Machine Learning   \n",
            "1      C002   Deep Learning with TensorFlow and Keras   \n",
            "2      C003  Natural Language Processing Fundamentals   \n",
            "3      C004      Computer Vision and Image Processing   \n",
            "4      C005             Reinforcement Learning Basics   \n",
            "\n",
            "                                         description  \n",
            "0  Understand foundational machine learning algor...  \n",
            "1  Explore neural network architectures using Ten...  \n",
            "2  Dive into NLP techniques for processing and un...  \n",
            "3  Learn the principles of computer vision and im...  \n",
            "4  Get introduced to reinforcement learning parad...  \n"
          ]
        }
      ]
    },
    {
      "cell_type": "code",
      "source": [
        "# Step 5: Create embeddings function\n",
        "def get_embedding(text):\n",
        "    \"\"\"Get embedding for a text using Azure OpenAI\"\"\"\n",
        "    response = client.embeddings.create(\n",
        "        input=text,\n",
        "        model=\"text-embedding-ada-002\"  # Your deployment name\n",
        "    )\n",
        "    return response.data[0].embedding"
      ],
      "metadata": {
        "id": "8yNcZjvFugPl"
      },
      "execution_count": 5,
      "outputs": []
    },
    {
      "cell_type": "code",
      "source": [
        "# Step 6: Create embeddings for all courses\n",
        "print(\"Creating embeddings for courses...\")\n",
        "course_embeddings = []\n",
        "for index, row in df.iterrows():\n",
        "    # Combine title and description\n",
        "    course_text = f\"{row['title']}. {row['description']}\"\n",
        "    embedding = get_embedding(course_text)\n",
        "    course_embeddings.append(embedding)\n",
        "    print(f\"Processed course {index + 1}/{len(df)}\")\n"
      ],
      "metadata": {
        "colab": {
          "base_uri": "https://localhost:8080/"
        },
        "id": "BNIwuohEug6h",
        "outputId": "a0b910f3-d670-4228-8722-568922308e40"
      },
      "execution_count": 6,
      "outputs": [
        {
          "output_type": "stream",
          "name": "stdout",
          "text": [
            "Creating embeddings for courses...\n",
            "Processed course 1/25\n",
            "Processed course 2/25\n",
            "Processed course 3/25\n",
            "Processed course 4/25\n",
            "Processed course 5/25\n",
            "Processed course 6/25\n",
            "Processed course 7/25\n",
            "Processed course 8/25\n",
            "Processed course 9/25\n",
            "Processed course 10/25\n",
            "Processed course 11/25\n",
            "Processed course 12/25\n",
            "Processed course 13/25\n",
            "Processed course 14/25\n",
            "Processed course 15/25\n",
            "Processed course 16/25\n",
            "Processed course 17/25\n",
            "Processed course 18/25\n",
            "Processed course 19/25\n",
            "Processed course 20/25\n",
            "Processed course 21/25\n",
            "Processed course 22/25\n",
            "Processed course 23/25\n",
            "Processed course 24/25\n",
            "Processed course 25/25\n"
          ]
        }
      ]
    },
    {
      "cell_type": "code",
      "source": [
        "# Convert to numpy array\n",
        "course_embeddings = np.array(course_embeddings)\n",
        "print(f\"Created embeddings for {len(course_embeddings)} courses\")"
      ],
      "metadata": {
        "colab": {
          "base_uri": "https://localhost:8080/"
        },
        "id": "cMNxHzHiuhFI",
        "outputId": "6b835fda-bff5-42b7-b8e5-0916e962127d"
      },
      "execution_count": 7,
      "outputs": [
        {
          "output_type": "stream",
          "name": "stdout",
          "text": [
            "Created embeddings for 25 courses\n"
          ]
        }
      ]
    },
    {
      "cell_type": "code",
      "source": [
        "# Step 7: Main recommendation function\n",
        "def recommend_courses(profile: str, completed_ids: List[str]) -> List[Tuple[str, float]]:\n",
        "    \"\"\"\n",
        "    Returns a list of (course_id, similarity_score) for the top-5 recommendations.\n",
        "    \"\"\"\n",
        "    # Get embedding for user profile\n",
        "    profile_embedding = get_embedding(profile)\n",
        "    profile_embedding = np.array(profile_embedding).reshape(1, -1)\n",
        "\n",
        "    # Calculate cosine similarity\n",
        "    similarities = cosine_similarity(profile_embedding, course_embeddings)[0]\n",
        "\n",
        "    # Create list of course_id and similarity pairs\n",
        "    recommendations = []\n",
        "    for i, similarity in enumerate(similarities):\n",
        "        course_id = df.iloc[i]['course_id']\n",
        "        if course_id not in completed_ids:  # Skip completed courses\n",
        "            recommendations.append((course_id, similarity))\n",
        "\n",
        "    # Sort by similarity and return top 5\n",
        "    recommendations.sort(key=lambda x: x[1], reverse=True)\n",
        "    return recommendations[:5]"
      ],
      "metadata": {
        "id": "faRgZc_Qu2Sn"
      },
      "execution_count": 8,
      "outputs": []
    },
    {
      "cell_type": "code",
      "source": [
        "# Step 8: Test with sample queries\n",
        "test_profiles = [\n",
        "    {\n",
        "        \"query\": \"I've completed the 'Python Programming for Data Science' course and enjoy data visualization. What should I take next?\",\n",
        "        \"completed\": [\"python-data-science\"]\n",
        "    },\n",
        "    {\n",
        "        \"query\": \"I know Azure basics and want to manage containers and build CI/CD pipelines. Recommend courses.\",\n",
        "        \"completed\": []\n",
        "    },\n",
        "    {\n",
        "        \"query\": \"My background is in ML fundamentals; I'd like to specialize in neural networks and production workflows.\",\n",
        "        \"completed\": []\n",
        "    },\n",
        "    {\n",
        "        \"query\": \"I want to learn to build and deploy microservices with Kubernetes—what courses fit best?\",\n",
        "        \"completed\": []\n",
        "    },\n",
        "    {\n",
        "        \"query\": \"I'm interested in blockchain and smart contracts but have no prior experience. Which courses do you suggest?\",\n",
        "        \"completed\": []\n",
        "    }\n",
        "]"
      ],
      "metadata": {
        "id": "gn8zau3qu2bh"
      },
      "execution_count": 9,
      "outputs": []
    },
    {
      "cell_type": "code",
      "source": [
        "# Step 9: Run tests and show results\n",
        "print(\"\\n\" + \"=\"*80)\n",
        "print(\"COURSE RECOMMENDATION RESULTS\")\n",
        "print(\"=\"*80)\n",
        "\n",
        "for i, test in enumerate(test_profiles, 1):\n",
        "    print(f\"\\nTest {i}:\")\n",
        "    print(f\"Query: {test['query']}\")\n",
        "    print(f\"Completed courses: {test['completed']}\")\n",
        "    print(\"\\nRecommendations:\")\n",
        "\n",
        "    # Get recommendations\n",
        "    recommendations = recommend_courses(test['query'], test['completed'])\n",
        "\n",
        "    # Display results\n",
        "    for j, (course_id, score) in enumerate(recommendations, 1):\n",
        "        # Find course details\n",
        "        course_row = df[df['course_id'] == course_id].iloc[0]\n",
        "        print(f\"{j}. Course ID: {course_id}\")\n",
        "        print(f\"   Title: {course_row['title']}\")\n",
        "        print(f\"   Description: {course_row['description'][:100]}...\")\n",
        "        print(f\"   Similarity Score: {score:.4f}\")\n",
        "        print(\"-\" * 60)\n",
        "\n",
        "    print(\"\\n\" + \"=\"*80)\n"
      ],
      "metadata": {
        "colab": {
          "base_uri": "https://localhost:8080/"
        },
        "id": "GIqhz2UDu2i-",
        "outputId": "d62cfb66-7644-4e65-c08c-9066f602cfc3"
      },
      "execution_count": 10,
      "outputs": [
        {
          "output_type": "stream",
          "name": "stdout",
          "text": [
            "\n",
            "================================================================================\n",
            "COURSE RECOMMENDATION RESULTS\n",
            "================================================================================\n",
            "\n",
            "Test 1:\n",
            "Query: I've completed the 'Python Programming for Data Science' course and enjoy data visualization. What should I take next?\n",
            "Completed courses: ['python-data-science']\n",
            "\n",
            "Recommendations:\n",
            "1. Course ID: C016\n",
            "   Title: Python Programming for Data Science\n",
            "   Description: Learn Python fundamentals for data science: variables, control flow, functions, and object-oriented ...\n",
            "   Similarity Score: 0.8383\n",
            "------------------------------------------------------------\n",
            "2. Course ID: C011\n",
            "   Title: Big Data Analytics with Spark\n",
            "   Description: Process and analyze large datasets using Apache Spark and PySpark. The course covers RDDs, DataFrame...\n",
            "   Similarity Score: 0.8111\n",
            "------------------------------------------------------------\n",
            "3. Course ID: C014\n",
            "   Title: Data Visualization with Tableau\n",
            "   Description: Transform raw data into compelling visual stories using Tableau. Learn to connect to diverse data so...\n",
            "   Similarity Score: 0.8079\n",
            "------------------------------------------------------------\n",
            "4. Course ID: C017\n",
            "   Title: R Programming and Statistical Analysis\n",
            "   Description: Get introduced to R for statistical computing and graphics. Topics include data structures, control ...\n",
            "   Similarity Score: 0.7963\n",
            "------------------------------------------------------------\n",
            "5. Course ID: C004\n",
            "   Title: Computer Vision and Image Processing\n",
            "   Description: Learn the principles of computer vision and image processing. Topics include filtering, edge detecti...\n",
            "   Similarity Score: 0.7899\n",
            "------------------------------------------------------------\n",
            "\n",
            "================================================================================\n",
            "\n",
            "Test 2:\n",
            "Query: I know Azure basics and want to manage containers and build CI/CD pipelines. Recommend courses.\n",
            "Completed courses: []\n",
            "\n",
            "Recommendations:\n",
            "1. Course ID: C007\n",
            "   Title: Cloud Computing with Azure\n",
            "   Description: Master Microsoft Azure’s core services: virtual machines, Azure Functions, Azure SQL Database, Cosmo...\n",
            "   Similarity Score: 0.8476\n",
            "------------------------------------------------------------\n",
            "2. Course ID: C009\n",
            "   Title: Containerization with Docker and Kubernetes\n",
            "   Description: Learn container fundamentals with Docker: images, containers, and Compose. Then advance to Kubernete...\n",
            "   Similarity Score: 0.8329\n",
            "------------------------------------------------------------\n",
            "3. Course ID: C008\n",
            "   Title: DevOps Practices and CI/CD\n",
            "   Description: Adopt DevOps methodologies to accelerate software delivery. Explore version control with Git, contin...\n",
            "   Similarity Score: 0.8253\n",
            "------------------------------------------------------------\n",
            "4. Course ID: C010\n",
            "   Title: APIs and Microservices Architecture\n",
            "   Description: Design and implement RESTful and GraphQL APIs using Node.js, Express, or Python FastAPI. Learn micro...\n",
            "   Similarity Score: 0.7990\n",
            "------------------------------------------------------------\n",
            "5. Course ID: C025\n",
            "   Title: MLOps: Productionizing Machine Learning\n",
            "   Description: Master the practices needed to deploy and maintain ML models at scale. Topics include model versioni...\n",
            "   Similarity Score: 0.7967\n",
            "------------------------------------------------------------\n",
            "\n",
            "================================================================================\n",
            "\n",
            "Test 3:\n",
            "Query: My background is in ML fundamentals; I'd like to specialize in neural networks and production workflows.\n",
            "Completed courses: []\n",
            "\n",
            "Recommendations:\n",
            "1. Course ID: C025\n",
            "   Title: MLOps: Productionizing Machine Learning\n",
            "   Description: Master the practices needed to deploy and maintain ML models at scale. Topics include model versioni...\n",
            "   Similarity Score: 0.8442\n",
            "------------------------------------------------------------\n",
            "2. Course ID: C002\n",
            "   Title: Deep Learning with TensorFlow and Keras\n",
            "   Description: Explore neural network architectures using TensorFlow and Keras frameworks. This course covers feedf...\n",
            "   Similarity Score: 0.8263\n",
            "------------------------------------------------------------\n",
            "3. Course ID: C001\n",
            "   Title: Foundations of Machine Learning\n",
            "   Description: Understand foundational machine learning algorithms including regression, classification, clustering...\n",
            "   Similarity Score: 0.8165\n",
            "------------------------------------------------------------\n",
            "4. Course ID: C003\n",
            "   Title: Natural Language Processing Fundamentals\n",
            "   Description: Dive into NLP techniques for processing and understanding human language. You will learn tokenizatio...\n",
            "   Similarity Score: 0.8156\n",
            "------------------------------------------------------------\n",
            "5. Course ID: C004\n",
            "   Title: Computer Vision and Image Processing\n",
            "   Description: Learn the principles of computer vision and image processing. Topics include filtering, edge detecti...\n",
            "   Similarity Score: 0.8138\n",
            "------------------------------------------------------------\n",
            "\n",
            "================================================================================\n",
            "\n",
            "Test 4:\n",
            "Query: I want to learn to build and deploy microservices with Kubernetes—what courses fit best?\n",
            "Completed courses: []\n",
            "\n",
            "Recommendations:\n",
            "1. Course ID: C009\n",
            "   Title: Containerization with Docker and Kubernetes\n",
            "   Description: Learn container fundamentals with Docker: images, containers, and Compose. Then advance to Kubernete...\n",
            "   Similarity Score: 0.8823\n",
            "------------------------------------------------------------\n",
            "2. Course ID: C010\n",
            "   Title: APIs and Microservices Architecture\n",
            "   Description: Design and implement RESTful and GraphQL APIs using Node.js, Express, or Python FastAPI. Learn micro...\n",
            "   Similarity Score: 0.8391\n",
            "------------------------------------------------------------\n",
            "3. Course ID: C008\n",
            "   Title: DevOps Practices and CI/CD\n",
            "   Description: Adopt DevOps methodologies to accelerate software delivery. Explore version control with Git, contin...\n",
            "   Similarity Score: 0.8140\n",
            "------------------------------------------------------------\n",
            "4. Course ID: C007\n",
            "   Title: Cloud Computing with Azure\n",
            "   Description: Master Microsoft Azure’s core services: virtual machines, Azure Functions, Azure SQL Database, Cosmo...\n",
            "   Similarity Score: 0.8123\n",
            "------------------------------------------------------------\n",
            "5. Course ID: C025\n",
            "   Title: MLOps: Productionizing Machine Learning\n",
            "   Description: Master the practices needed to deploy and maintain ML models at scale. Topics include model versioni...\n",
            "   Similarity Score: 0.8075\n",
            "------------------------------------------------------------\n",
            "\n",
            "================================================================================\n",
            "\n",
            "Test 5:\n",
            "Query: I'm interested in blockchain and smart contracts but have no prior experience. Which courses do you suggest?\n",
            "Completed courses: []\n",
            "\n",
            "Recommendations:\n",
            "1. Course ID: C023\n",
            "   Title: Blockchain Technology and Smart Contracts\n",
            "   Description: Understand blockchain fundamentals: cryptographic hashing, consensus algorithms, and distributed led...\n",
            "   Similarity Score: 0.8679\n",
            "------------------------------------------------------------\n",
            "2. Course ID: C010\n",
            "   Title: APIs and Microservices Architecture\n",
            "   Description: Design and implement RESTful and GraphQL APIs using Node.js, Express, or Python FastAPI. Learn micro...\n",
            "   Similarity Score: 0.7713\n",
            "------------------------------------------------------------\n",
            "3. Course ID: C022\n",
            "   Title: Internet of Things (IoT) Development\n",
            "   Description: Explore IoT architecture, sensors, and edge computing. Use Raspberry Pi or Arduino to collect data, ...\n",
            "   Similarity Score: 0.7650\n",
            "------------------------------------------------------------\n",
            "4. Course ID: C009\n",
            "   Title: Containerization with Docker and Kubernetes\n",
            "   Description: Learn container fundamentals with Docker: images, containers, and Compose. Then advance to Kubernete...\n",
            "   Similarity Score: 0.7620\n",
            "------------------------------------------------------------\n",
            "5. Course ID: C021\n",
            "   Title: Cybersecurity Fundamentals\n",
            "   Description: Get introduced to cybersecurity principles: threat modeling, encryption, network security, and incid...\n",
            "   Similarity Score: 0.7610\n",
            "------------------------------------------------------------\n",
            "\n",
            "================================================================================\n"
          ]
        }
      ]
    },
    {
      "cell_type": "code",
      "source": [],
      "metadata": {
        "id": "b_hig7CFu2p7"
      },
      "execution_count": null,
      "outputs": []
    }
  ]
}
