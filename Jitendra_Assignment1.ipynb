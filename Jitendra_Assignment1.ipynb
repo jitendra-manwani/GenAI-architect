{
  "nbformat": 4,
  "nbformat_minor": 0,
  "metadata": {
    "colab": {
      "provenance": [],
      "authorship_tag": "ABX9TyMh57nKT/flBNCmh0JF4xo0",
      "include_colab_link": true
    },
    "kernelspec": {
      "name": "python3",
      "display_name": "Python 3"
    },
    "language_info": {
      "name": "python"
    }
  },
  "cells": [
    {
      "cell_type": "markdown",
      "metadata": {
        "id": "view-in-github",
        "colab_type": "text"
      },
      "source": [
        "<a href=\"https://colab.research.google.com/github/jitendra-manwani/GenAI-architect/blob/main/Jitendra_Assignment1.ipynb\" target=\"_parent\"><img src=\"https://colab.research.google.com/assets/colab-badge.svg\" alt=\"Open In Colab\"/></a>"
      ]
    },
    {
      "cell_type": "code",
      "execution_count": null,
      "metadata": {
        "colab": {
          "base_uri": "https://localhost:8080/"
        },
        "id": "6skStSEYBHOg",
        "outputId": "04522bd2-19f8-46cb-d037-6dc7a0845ca1"
      },
      "outputs": [
        {
          "output_type": "stream",
          "name": "stdout",
          "text": [
            "Requirement already satisfied: langchain in /usr/local/lib/python3.11/dist-packages (0.3.25)\n",
            "Requirement already satisfied: langchain-community in /usr/local/lib/python3.11/dist-packages (0.3.25)\n",
            "Requirement already satisfied: openai in /usr/local/lib/python3.11/dist-packages (1.84.0)\n",
            "Requirement already satisfied: yfinance in /usr/local/lib/python3.11/dist-packages (0.2.61)\n",
            "Requirement already satisfied: langfuse==2.17.0 in /usr/local/lib/python3.11/dist-packages (2.17.0)\n",
            "Requirement already satisfied: backoff<3.0.0,>=2.2.1 in /usr/local/lib/python3.11/dist-packages (from langfuse==2.17.0) (2.2.1)\n",
            "Requirement already satisfied: chevron<0.15.0,>=0.14.0 in /usr/local/lib/python3.11/dist-packages (from langfuse==2.17.0) (0.14.0)\n",
            "Requirement already satisfied: httpx<0.26.0,>=0.15.4 in /usr/local/lib/python3.11/dist-packages (from langfuse==2.17.0) (0.25.2)\n",
            "Requirement already satisfied: packaging<24.0,>=23.2 in /usr/local/lib/python3.11/dist-packages (from langfuse==2.17.0) (23.2)\n",
            "Requirement already satisfied: pydantic<3.0,>=1.10.7 in /usr/local/lib/python3.11/dist-packages (from langfuse==2.17.0) (2.11.5)\n",
            "Requirement already satisfied: wrapt==1.14 in /usr/local/lib/python3.11/dist-packages (from langfuse==2.17.0) (1.14.0)\n",
            "Requirement already satisfied: langchain-core<1.0.0,>=0.3.58 in /usr/local/lib/python3.11/dist-packages (from langchain) (0.3.65)\n",
            "Requirement already satisfied: langchain-text-splitters<1.0.0,>=0.3.8 in /usr/local/lib/python3.11/dist-packages (from langchain) (0.3.8)\n",
            "Requirement already satisfied: langsmith<0.4,>=0.1.17 in /usr/local/lib/python3.11/dist-packages (from langchain) (0.3.45)\n",
            "Requirement already satisfied: SQLAlchemy<3,>=1.4 in /usr/local/lib/python3.11/dist-packages (from langchain) (2.0.41)\n",
            "Requirement already satisfied: requests<3,>=2 in /usr/local/lib/python3.11/dist-packages (from langchain) (2.32.3)\n",
            "Requirement already satisfied: PyYAML>=5.3 in /usr/local/lib/python3.11/dist-packages (from langchain) (6.0.2)\n",
            "Requirement already satisfied: aiohttp<4.0.0,>=3.8.3 in /usr/local/lib/python3.11/dist-packages (from langchain-community) (3.11.15)\n",
            "Requirement already satisfied: tenacity!=8.4.0,<10,>=8.1.0 in /usr/local/lib/python3.11/dist-packages (from langchain-community) (9.1.2)\n",
            "Requirement already satisfied: dataclasses-json<0.7,>=0.5.7 in /usr/local/lib/python3.11/dist-packages (from langchain-community) (0.6.7)\n",
            "Requirement already satisfied: pydantic-settings<3.0.0,>=2.4.0 in /usr/local/lib/python3.11/dist-packages (from langchain-community) (2.9.1)\n",
            "Requirement already satisfied: httpx-sse<1.0.0,>=0.4.0 in /usr/local/lib/python3.11/dist-packages (from langchain-community) (0.4.0)\n",
            "Requirement already satisfied: numpy>=1.26.2 in /usr/local/lib/python3.11/dist-packages (from langchain-community) (2.0.2)\n",
            "Requirement already satisfied: anyio<5,>=3.5.0 in /usr/local/lib/python3.11/dist-packages (from openai) (4.9.0)\n",
            "Requirement already satisfied: distro<2,>=1.7.0 in /usr/local/lib/python3.11/dist-packages (from openai) (1.9.0)\n",
            "Requirement already satisfied: jiter<1,>=0.4.0 in /usr/local/lib/python3.11/dist-packages (from openai) (0.10.0)\n",
            "Requirement already satisfied: sniffio in /usr/local/lib/python3.11/dist-packages (from openai) (1.3.1)\n",
            "Requirement already satisfied: tqdm>4 in /usr/local/lib/python3.11/dist-packages (from openai) (4.67.1)\n",
            "Requirement already satisfied: typing-extensions<5,>=4.11 in /usr/local/lib/python3.11/dist-packages (from openai) (4.14.0)\n",
            "Requirement already satisfied: pandas>=1.3.0 in /usr/local/lib/python3.11/dist-packages (from yfinance) (2.2.2)\n",
            "Requirement already satisfied: multitasking>=0.0.7 in /usr/local/lib/python3.11/dist-packages (from yfinance) (0.0.11)\n",
            "Requirement already satisfied: platformdirs>=2.0.0 in /usr/local/lib/python3.11/dist-packages (from yfinance) (4.3.8)\n",
            "Requirement already satisfied: pytz>=2022.5 in /usr/local/lib/python3.11/dist-packages (from yfinance) (2025.2)\n",
            "Requirement already satisfied: frozendict>=2.3.4 in /usr/local/lib/python3.11/dist-packages (from yfinance) (2.4.6)\n",
            "Requirement already satisfied: peewee>=3.16.2 in /usr/local/lib/python3.11/dist-packages (from yfinance) (3.18.1)\n",
            "Requirement already satisfied: beautifulsoup4>=4.11.1 in /usr/local/lib/python3.11/dist-packages (from yfinance) (4.13.4)\n",
            "Requirement already satisfied: curl_cffi>=0.7 in /usr/local/lib/python3.11/dist-packages (from yfinance) (0.11.1)\n",
            "Requirement already satisfied: protobuf>=3.19.0 in /usr/local/lib/python3.11/dist-packages (from yfinance) (5.29.5)\n",
            "Requirement already satisfied: websockets>=13.0 in /usr/local/lib/python3.11/dist-packages (from yfinance) (15.0.1)\n",
            "Requirement already satisfied: aiohappyeyeballs>=2.3.0 in /usr/local/lib/python3.11/dist-packages (from aiohttp<4.0.0,>=3.8.3->langchain-community) (2.6.1)\n",
            "Requirement already satisfied: aiosignal>=1.1.2 in /usr/local/lib/python3.11/dist-packages (from aiohttp<4.0.0,>=3.8.3->langchain-community) (1.3.2)\n",
            "Requirement already satisfied: attrs>=17.3.0 in /usr/local/lib/python3.11/dist-packages (from aiohttp<4.0.0,>=3.8.3->langchain-community) (25.3.0)\n",
            "Requirement already satisfied: frozenlist>=1.1.1 in /usr/local/lib/python3.11/dist-packages (from aiohttp<4.0.0,>=3.8.3->langchain-community) (1.6.0)\n",
            "Requirement already satisfied: multidict<7.0,>=4.5 in /usr/local/lib/python3.11/dist-packages (from aiohttp<4.0.0,>=3.8.3->langchain-community) (6.4.4)\n",
            "Requirement already satisfied: propcache>=0.2.0 in /usr/local/lib/python3.11/dist-packages (from aiohttp<4.0.0,>=3.8.3->langchain-community) (0.3.1)\n",
            "Requirement already satisfied: yarl<2.0,>=1.17.0 in /usr/local/lib/python3.11/dist-packages (from aiohttp<4.0.0,>=3.8.3->langchain-community) (1.20.0)\n",
            "Requirement already satisfied: idna>=2.8 in /usr/local/lib/python3.11/dist-packages (from anyio<5,>=3.5.0->openai) (3.10)\n",
            "Requirement already satisfied: soupsieve>1.2 in /usr/local/lib/python3.11/dist-packages (from beautifulsoup4>=4.11.1->yfinance) (2.7)\n",
            "Requirement already satisfied: cffi>=1.12.0 in /usr/local/lib/python3.11/dist-packages (from curl_cffi>=0.7->yfinance) (1.17.1)\n",
            "Requirement already satisfied: certifi>=2024.2.2 in /usr/local/lib/python3.11/dist-packages (from curl_cffi>=0.7->yfinance) (2025.4.26)\n",
            "Requirement already satisfied: marshmallow<4.0.0,>=3.18.0 in /usr/local/lib/python3.11/dist-packages (from dataclasses-json<0.7,>=0.5.7->langchain-community) (3.26.1)\n",
            "Requirement already satisfied: typing-inspect<1,>=0.4.0 in /usr/local/lib/python3.11/dist-packages (from dataclasses-json<0.7,>=0.5.7->langchain-community) (0.9.0)\n",
            "Requirement already satisfied: httpcore==1.* in /usr/local/lib/python3.11/dist-packages (from httpx<0.26.0,>=0.15.4->langfuse==2.17.0) (1.0.9)\n",
            "Requirement already satisfied: h11>=0.16 in /usr/local/lib/python3.11/dist-packages (from httpcore==1.*->httpx<0.26.0,>=0.15.4->langfuse==2.17.0) (0.16.0)\n",
            "Requirement already satisfied: jsonpatch<2.0,>=1.33 in /usr/local/lib/python3.11/dist-packages (from langchain-core<1.0.0,>=0.3.58->langchain) (1.33)\n",
            "Requirement already satisfied: orjson<4.0.0,>=3.9.14 in /usr/local/lib/python3.11/dist-packages (from langsmith<0.4,>=0.1.17->langchain) (3.10.18)\n",
            "Requirement already satisfied: requests-toolbelt<2.0.0,>=1.0.0 in /usr/local/lib/python3.11/dist-packages (from langsmith<0.4,>=0.1.17->langchain) (1.0.0)\n",
            "Requirement already satisfied: zstandard<0.24.0,>=0.23.0 in /usr/local/lib/python3.11/dist-packages (from langsmith<0.4,>=0.1.17->langchain) (0.23.0)\n",
            "Requirement already satisfied: python-dateutil>=2.8.2 in /usr/local/lib/python3.11/dist-packages (from pandas>=1.3.0->yfinance) (2.9.0.post0)\n",
            "Requirement already satisfied: tzdata>=2022.7 in /usr/local/lib/python3.11/dist-packages (from pandas>=1.3.0->yfinance) (2025.2)\n",
            "Requirement already satisfied: annotated-types>=0.6.0 in /usr/local/lib/python3.11/dist-packages (from pydantic<3.0,>=1.10.7->langfuse==2.17.0) (0.7.0)\n",
            "Requirement already satisfied: pydantic-core==2.33.2 in /usr/local/lib/python3.11/dist-packages (from pydantic<3.0,>=1.10.7->langfuse==2.17.0) (2.33.2)\n",
            "Requirement already satisfied: typing-inspection>=0.4.0 in /usr/local/lib/python3.11/dist-packages (from pydantic<3.0,>=1.10.7->langfuse==2.17.0) (0.4.1)\n",
            "Requirement already satisfied: python-dotenv>=0.21.0 in /usr/local/lib/python3.11/dist-packages (from pydantic-settings<3.0.0,>=2.4.0->langchain-community) (1.1.0)\n",
            "Requirement already satisfied: charset-normalizer<4,>=2 in /usr/local/lib/python3.11/dist-packages (from requests<3,>=2->langchain) (3.4.2)\n",
            "Requirement already satisfied: urllib3<3,>=1.21.1 in /usr/local/lib/python3.11/dist-packages (from requests<3,>=2->langchain) (2.4.0)\n",
            "Requirement already satisfied: greenlet>=1 in /usr/local/lib/python3.11/dist-packages (from SQLAlchemy<3,>=1.4->langchain) (3.2.2)\n",
            "Requirement already satisfied: pycparser in /usr/local/lib/python3.11/dist-packages (from cffi>=1.12.0->curl_cffi>=0.7->yfinance) (2.22)\n",
            "Requirement already satisfied: jsonpointer>=1.9 in /usr/local/lib/python3.11/dist-packages (from jsonpatch<2.0,>=1.33->langchain-core<1.0.0,>=0.3.58->langchain) (3.0.0)\n",
            "Requirement already satisfied: six>=1.5 in /usr/local/lib/python3.11/dist-packages (from python-dateutil>=2.8.2->pandas>=1.3.0->yfinance) (1.17.0)\n",
            "Requirement already satisfied: mypy-extensions>=0.3.0 in /usr/local/lib/python3.11/dist-packages (from typing-inspect<1,>=0.4.0->dataclasses-json<0.7,>=0.5.7->langchain-community) (1.1.0)\n"
          ]
        }
      ],
      "source": [
        "# Install required packages\n",
        "!pip install langchain langchain-community openai yfinance langfuse==2.17.0\n"
      ]
    },
    {
      "cell_type": "markdown",
      "source": [
        "**Step 1: Set Up API Keys & Imports**\n"
      ],
      "metadata": {
        "id": "dN78dC_TBxx5"
      }
    },
    {
      "cell_type": "code",
      "source": [
        "import os\n",
        "\n",
        "# Azure OpenAI credentials\n",
        "os.environ[\"AZURE_OPENAI_API_KEY\"] = \"63a0587ef7b24ca9b5d7b179c13fbaab\"\n",
        "os.environ[\"AZURE_OPENAI_ENDPOINT\"] = \"https://eastus.api.cognitive.microsoft.com/\"\n",
        "os.environ[\"AZURE_OPENAI_DEPLOYMENT_NAME\"] = \"telcogpt\"\n",
        "\n",
        "# Langfuse credentials\n",
        "os.environ[\"LANGFUSE_PUBLIC_KEY\"] = \"pk-lf-a14e74c0-bb1e-4972-93ed-73ce9930d387\"\n",
        "os.environ[\"LANGFUSE_SECRET_KEY\"] = \"sk-lf-c6f9d29c-96cf-4bf4-82e0-0259bbfaee0d\"\n",
        "os.environ[\"LANGFUSE_HOST\"] = \"https://cloud.langfuse.com\"\n",
        "\n",
        "# Set OpenAI API base & type\n",
        "os.environ[\"OPENAI_API_TYPE\"] = \"azure\"\n",
        "os.environ[\"OPENAI_API_VERSION\"] = \"2024-12-01-preview\"\n"
      ],
      "metadata": {
        "id": "jpeL8y-vBZFN"
      },
      "execution_count": null,
      "outputs": []
    },
    {
      "cell_type": "markdown",
      "source": [
        "**Step 2: Accept Company Name Input**"
      ],
      "metadata": {
        "id": "ibooCGqcDs8C"
      }
    },
    {
      "cell_type": "code",
      "source": [
        "# Step 1: Accept input\n",
        "company_name = input(\"Enter the company name (e.g., Apple Inc): \")"
      ],
      "metadata": {
        "colab": {
          "base_uri": "https://localhost:8080/"
        },
        "id": "lgKNwZKrBYMJ",
        "outputId": "af1b2e7f-7d47-4187-a28c-5a9264b93917"
      },
      "execution_count": null,
      "outputs": [
        {
          "name": "stdout",
          "output_type": "stream",
          "text": [
            "Enter the company name (e.g., Apple Inc): Google\n"
          ]
        }
      ]
    },
    {
      "cell_type": "markdown",
      "source": [
        "**Step 3: Extract Ticker Symbol from Yahoo Finance**"
      ],
      "metadata": {
        "id": "SiS6KcKYEC11"
      }
    },
    {
      "cell_type": "code",
      "source": [
        "import yfinance as yf\n",
        "\n",
        "def get_ticker(company_name):\n",
        "    # Static lookup fallback\n",
        "    static_map = {\n",
        "        \"Apple Inc\": \"AAPL\",\n",
        "        \"Microsoft Corporation\": \"MSFT\",\n",
        "        \"Google\": \"GOOGL\",\n",
        "        \"Amazon\": \"AMZN\"\n",
        "    }\n",
        "    if company_name in static_map:\n",
        "        return static_map[company_name]\n",
        "    else:\n",
        "        # Try yfinance search\n",
        "        try:\n",
        "            ticker = yf.Ticker(company_name).info['symbol']\n",
        "            return ticker\n",
        "        except:\n",
        "            return None\n",
        "\n",
        "ticker = get_ticker(company_name)\n",
        "print(\"Ticker symbol:\", ticker)\n"
      ],
      "metadata": {
        "colab": {
          "base_uri": "https://localhost:8080/"
        },
        "id": "qZGfO1LCD8l_",
        "outputId": "7f30e1c3-f120-4684-9495-027e0d22f491"
      },
      "execution_count": null,
      "outputs": [
        {
          "output_type": "stream",
          "name": "stdout",
          "text": [
            "Ticker symbol: GOOGL\n"
          ]
        }
      ]
    },
    {
      "cell_type": "markdown",
      "source": [
        "**Step 4: Fetch Company News from Yahoo Finance**"
      ],
      "metadata": {
        "id": "TD9fOoBHE6tt"
      }
    },
    {
      "cell_type": "code",
      "source": [
        "# !pip install feedparser #one time installation of feedparser\n",
        "import feedparser\n",
        "\n",
        "def fetch_news_from_rss(ticker):\n",
        "    feed_url = f\"https://feeds.finance.yahoo.com/rss/2.0/headline?s={ticker}&region=US&lang=en-US\"\n",
        "    feed = feedparser.parse(feed_url)\n",
        "\n",
        "    summaries = []\n",
        "    for entry in feed.entries[:5]:  # Get top 5 entries\n",
        "        title = entry.get('title', '')\n",
        "        summary = entry.get('summary', '')\n",
        "        summaries.append(f\"{title} - {summary}\")\n",
        "\n",
        "    return summaries\n",
        "\n",
        "news_summaries = fetch_news_from_rss(ticker)\n",
        "\n",
        "if news_summaries:\n",
        "    print(\"News Summaries:\\n\")\n",
        "    for summary in news_summaries:\n",
        "        print(\"-\", summary)\n",
        "else:\n",
        "    print(\"No recent news found for this ticker.\")\n"
      ],
      "metadata": {
        "colab": {
          "base_uri": "https://localhost:8080/"
        },
        "id": "zoWSn62EF5Tx",
        "outputId": "6c812221-e7aa-4503-e66d-9a4c76149d52"
      },
      "execution_count": null,
      "outputs": [
        {
          "output_type": "stream",
          "name": "stdout",
          "text": [
            "News Summaries:\n",
            "\n",
            "- Potential Alphabet (GOOGL) and OpenAI Deal Could Shift Dynamics in AI Race - Alphabet Inc. (NASDAQ:GOOGL) is one of the 10 best tech stocks to buy according to billionaires right now. On Tuesday, June 10, Reuters reported that OpenAI is partnering with Google Cloud to meet its growing need for computing power, citing three sources familiar with the matter. As both these companies are seen as competitors in AI space, […]\n",
            "- 2 Artificial Intelligence (AI) Cloud Stocks to Buy in June - Oracle expects its cloud revenue growth to accelerate to at least 40% over the next year.  Google Cloud is contributing a growing percentage of profits to Alphabet.  Artificial intelligence (AI) is providing profitable opportunities for businesses and investors.\n",
            "- Oracle Stock (ORCL) Delivers Strong Quarter as Cloud and AI Strategy Pays Off - Oracle (ORCL) has just wrapped up its quarterly reporting period with impressive results. Revenue rose 11% year-over-year to $15.9 billion, beating expectations with ease. Non-GAAP earnings per share came in at $1.70, topping the consensus estimate of around $1.65. In my view, Oracle’s bold investments in Cloud services—particularly Oracle Cloud Infrastructure (OCI)—are clearly bearing fruit. I’m bullish on the stock, as Oracle continues to demonstrate resilience and leadership in both Cloud and\n",
            "- The \"Magnificent Seven\" Are Still Growing Faster Than the Rest of the S&P 500. Here's When That Could Change, According to Wall Street Analysts. - The high valuations of most of the group could be a concern.\n",
            "- Billionaire Bill Ackman Just Joined Warren Buffett and Cathie Wood by Adding This Monster Artificial Intelligence (AI) Stock to His Portfolio - Ackman's Pershing Square Capital Management just plowed more money into another \"Magnificent Seven\" stock.\n"
          ]
        }
      ]
    },
    {
      "cell_type": "markdown",
      "source": [
        "**Step 5: Analyze Sentiment Using GPT-4o (via Azure OpenAI + LangChain)**"
      ],
      "metadata": {
        "id": "xVNIql7LGTjY"
      }
    },
    {
      "cell_type": "code",
      "source": [
        "from langchain.chat_models import AzureChatOpenAI\n",
        "from langchain.output_parsers import StructuredOutputParser, ResponseSchema\n",
        "from langchain.prompts import ChatPromptTemplate\n",
        "\n",
        "# Define the structure of the output JSON\n",
        "response_schemas = [\n",
        "    ResponseSchema(name=\"company_name\", description=\"Name of the company\"),\n",
        "    ResponseSchema(name=\"stock_code\", description=\"Ticker symbol of the company\"),\n",
        "    ResponseSchema(name=\"newsdesc\", description=\"Short summary of the news\"),\n",
        "    ResponseSchema(name=\"sentiment\", description=\"Sentiment of the news: Positive, Negative or Neutral\"),\n",
        "    ResponseSchema(name=\"people_names\", description=\"People mentioned in the news\"),\n",
        "    ResponseSchema(name=\"places_names\", description=\"Places mentioned in the news\"),\n",
        "    ResponseSchema(name=\"other_companies_referred\", description=\"Other companies mentioned\"),\n",
        "    ResponseSchema(name=\"related_industries\", description=\"Related industries\"),\n",
        "    ResponseSchema(name=\"market_implications\", description=\"What this means for the market\"),\n",
        "    ResponseSchema(name=\"confidence_score\", description=\"Confidence in sentiment analysis, as a float from 0 to 1\")\n",
        "]\n",
        "\n",
        "# Create the output parser\n",
        "parser = StructuredOutputParser.from_response_schemas(response_schemas)\n",
        "\n",
        "# Combine news summaries into a single input string\n",
        "input_news = \"\\n\\n\".join(news_summaries)\n",
        "\n",
        "# Define prompt template\n",
        "format_instructions = parser.get_format_instructions().replace(\"{\", \"{{\").replace(\"}\", \"}}\")\n",
        "\n",
        "prompt = ChatPromptTemplate.from_messages([\n",
        "    (\"system\", \"You are a financial news sentiment analyzer.\"),\n",
        "    (\"human\", \"{input_news}\\n\\nReturn result as JSON in this format:\\n\" + format_instructions)\n",
        "])\n",
        "\n",
        "# Azure OpenAI client using GPT-4o\n",
        "llm = AzureChatOpenAI(\n",
        "    deployment_name=os.environ[\"AZURE_OPENAI_DEPLOYMENT_NAME\"],\n",
        "    model=\"gpt-4o\",\n",
        "    temperature=0.3,\n",
        "    azure_endpoint=os.environ[\"AZURE_OPENAI_ENDPOINT\"]\n",
        ")\n",
        "\n",
        "# Chain to analyze sentiment\n",
        "chain = prompt | llm | parser\n",
        "\n",
        "# Run the chain\n",
        "response = chain.invoke({\"input_news\": input_news})\n",
        "response['company_name'] = company_name\n",
        "response['stock_code'] = ticker\n",
        "\n",
        "# Print formatted output\n",
        "import json\n",
        "print(json.dumps(response, indent=2))\n"
      ],
      "metadata": {
        "colab": {
          "base_uri": "https://localhost:8080/"
        },
        "id": "VK0apH4FG2a5",
        "outputId": "211efd59-0f59-4d3f-912d-d807dafebf77"
      },
      "execution_count": null,
      "outputs": [
        {
          "output_type": "stream",
          "name": "stdout",
          "text": [
            "{\n",
            "  \"company_name\": \"Google\",\n",
            "  \"stock_code\": \"GOOGL\",\n",
            "  \"newsdesc\": \"Potential partnership between OpenAI and Google Cloud could alter competitive dynamics in the AI sector.\",\n",
            "  \"sentiment\": \"Positive\",\n",
            "  \"people_names\": \"\",\n",
            "  \"places_names\": \"\",\n",
            "  \"other_companies_referred\": \"OpenAI, Oracle\",\n",
            "  \"related_industries\": \"Technology, Artificial Intelligence, Cloud Computing\",\n",
            "  \"market_implications\": \"The partnership may strengthen Alphabet's position in the AI race and enhance its cloud service offerings.\",\n",
            "  \"confidence_score\": 0.85\n",
            "}\n"
          ]
        }
      ]
    },
    {
      "cell_type": "markdown",
      "source": [
        "**end of the code**"
      ],
      "metadata": {
        "id": "ppREIEDbH6Kg"
      }
    }
  ]
}